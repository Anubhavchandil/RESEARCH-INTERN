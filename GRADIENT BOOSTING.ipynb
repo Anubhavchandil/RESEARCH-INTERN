{
 "cells": [
  {
   "cell_type": "code",
   "execution_count": 1,
   "id": "0740d504",
   "metadata": {},
   "outputs": [],
   "source": [
    "import pandas as pd\n",
    "df= pd.read_excel('output_params_density.xlsx')\n",
    "\n",
    "data= df.drop('density',axis='columns')\n",
    "target= df['density']\n",
    "from sklearn.model_selection import train_test_split\n",
    "xtrain, xtest,  ytrain, ytest = train_test_split(data, target, test_size=0.2,random_state=42)"
   ]
  },
  {
   "cell_type": "code",
   "execution_count": 2,
   "id": "1934579f",
   "metadata": {},
   "outputs": [],
   "source": [
    "from sklearn.ensemble import GradientBoostingRegressor"
   ]
  },
  {
   "cell_type": "code",
   "execution_count": 3,
   "id": "d9113e0c",
   "metadata": {},
   "outputs": [],
   "source": [
    "#     'loss' : ['ls', 'lad', 'huber', 'quantile'],\n",
    "#     'n_estimators' : [100,200,300,500,700],\n",
    "#     'min_samples_split' : [2,4,6],\n",
    "#     'min_samples_leaf' : [1,2,4,6,8],\n",
    "#     'max_depth' : [3,6,9]"
   ]
  },
  {
   "cell_type": "code",
   "execution_count": 25,
   "id": "cd67ba5a",
   "metadata": {},
   "outputs": [
    {
     "name": "stdout",
     "output_type": "stream",
     "text": [
      "Fitting 3 folds for each of 1 candidates, totalling 3 fits\n",
      "[CV 1/3] END loss=huber, max_depth=6, min_samples_leaf=6, min_samples_split=4, n_estimators=500;, score=-245.808 total time=  15.2s\n",
      "[CV 2/3] END loss=huber, max_depth=6, min_samples_leaf=6, min_samples_split=4, n_estimators=500;, score=-252.951 total time=  15.4s\n",
      "[CV 3/3] END loss=huber, max_depth=6, min_samples_leaf=6, min_samples_split=4, n_estimators=500;, score=-199.320 total time=  15.0s\n",
      "{'loss': 'huber', 'max_depth': 6, 'min_samples_leaf': 6, 'min_samples_split': 4, 'n_estimators': 500}\n",
      "MSE:232.69323140354618\n"
     ]
    }
   ],
   "source": [
    "#GRADIENT BOOSTING\n",
    "from sklearn.model_selection import GridSearchCV\n",
    "rf_params = {\n",
    "    'loss' : ['huber'],\n",
    "    'n_estimators' : [500],\n",
    "    'min_samples_split' : [4],\n",
    "    'min_samples_leaf' : [6],\n",
    "    'max_depth' : [6]\n",
    "    \n",
    "\n",
    "}\n",
    "model = GradientBoostingRegressor()\n",
    "grid = GridSearchCV(model, rf_params, cv=3, scoring='neg_mean_squared_error', verbose=3)\n",
    "grid.fit(xtrain, ytrain)\n",
    "print(grid.best_params_)\n",
    "print(\"MSE:\"+ str(-grid.best_score_))"
   ]
  },
  {
   "cell_type": "code",
   "execution_count": 26,
   "id": "89b01e0b",
   "metadata": {},
   "outputs": [
    {
     "data": {
      "text/plain": [
       "306.98055564694"
      ]
     },
     "execution_count": 26,
     "metadata": {},
     "output_type": "execute_result"
    }
   ],
   "source": [
    "-grid.score(xtest, ytest)"
   ]
  },
  {
   "cell_type": "code",
   "execution_count": 27,
   "id": "b236b4f5",
   "metadata": {},
   "outputs": [],
   "source": [
    "ypred=grid.predict(xtest)"
   ]
  },
  {
   "cell_type": "code",
   "execution_count": 28,
   "id": "72298cc4",
   "metadata": {},
   "outputs": [
    {
     "name": "stdout",
     "output_type": "stream",
     "text": [
      "0.9984153389537935\n",
      "306.98055564694\n",
      "5.255037499660563\n"
     ]
    }
   ],
   "source": [
    "from sklearn.metrics import r2_score\n",
    "from sklearn.metrics import mean_squared_error\n",
    "from sklearn.metrics import mean_absolute_error\n",
    "\n",
    "print(r2_score(ytest, ypred))\n",
    "print(mean_squared_error(ytest, ypred))\n",
    "print(mean_absolute_error(ytest, ypred))"
   ]
  },
  {
   "cell_type": "code",
   "execution_count": null,
   "id": "17cda9bc",
   "metadata": {},
   "outputs": [],
   "source": []
  }
 ],
 "metadata": {
  "kernelspec": {
   "display_name": "Python 3",
   "language": "python",
   "name": "python3"
  },
  "language_info": {
   "codemirror_mode": {
    "name": "ipython",
    "version": 3
   },
   "file_extension": ".py",
   "mimetype": "text/x-python",
   "name": "python",
   "nbconvert_exporter": "python",
   "pygments_lexer": "ipython3",
   "version": "3.9.2"
  }
 },
 "nbformat": 4,
 "nbformat_minor": 5
}
