{
 "cells": [
  {
   "cell_type": "code",
   "execution_count": 1,
   "id": "05fde6fe",
   "metadata": {},
   "outputs": [],
   "source": [
    "import pandas as pd\n",
    "df= pd.read_excel('output_params_density.xlsx')\n",
    "\n",
    "data= df.drop('density',axis='columns')\n",
    "target= df['density']\n",
    "from sklearn.model_selection import train_test_split\n",
    "xtrain, xtest,  ytrain, ytest = train_test_split(data, target, test_size=0.2,random_state=42)"
   ]
  },
  {
   "cell_type": "code",
   "execution_count": 2,
   "id": "eaab86ab",
   "metadata": {},
   "outputs": [],
   "source": [
    "from sklearn.tree import DecisionTreeRegressor"
   ]
  },
  {
   "cell_type": "code",
   "execution_count": 3,
   "id": "b4ec7cef",
   "metadata": {},
   "outputs": [
    {
     "name": "stdout",
     "output_type": "stream",
     "text": [
      "Fitting 3 folds for each of 96 candidates, totalling 288 fits\n",
      "{'max_depth': None, 'max_features': 'auto', 'min_samples_leaf': 4, 'min_samples_split': 2}\n",
      "MSE:543.4041513073506\n"
     ]
    }
   ],
   "source": [
    "#Decision tree\n",
    "from sklearn.model_selection import GridSearchCV\n",
    "\n",
    "rf_params = {\n",
    "    'max_features': ['sqrt', 'auto'],\n",
    "    'max_depth': [None,15,30,50],\n",
    "    'min_samples_leaf': [1,2,4,8],\n",
    "    'min_samples_split' :[2,4,6]\n",
    "    \n",
    "}\n",
    "model = DecisionTreeRegressor(random_state=42)\n",
    "grid = GridSearchCV(model, rf_params, cv=3, scoring='neg_mean_squared_error', verbose=3, n_jobs= -1)\n",
    "grid.fit(xtrain, ytrain)\n",
    "print(grid.best_params_)\n",
    "print(\"MSE:\"+ str(-grid.best_score_))"
   ]
  },
  {
   "cell_type": "code",
   "execution_count": 4,
   "id": "1bcb4861",
   "metadata": {},
   "outputs": [
    {
     "data": {
      "text/plain": [
       "536.6068154277302"
      ]
     },
     "execution_count": 4,
     "metadata": {},
     "output_type": "execute_result"
    }
   ],
   "source": [
    "-grid.score(xtest, ytest)"
   ]
  },
  {
   "cell_type": "code",
   "execution_count": 5,
   "id": "5f82abc2",
   "metadata": {},
   "outputs": [],
   "source": [
    "ypred=grid.predict(xtest)"
   ]
  },
  {
   "cell_type": "code",
   "execution_count": 6,
   "id": "d270f5bc",
   "metadata": {},
   "outputs": [],
   "source": [
    "from sklearn.metrics import r2_score\n",
    "from sklearn.metrics import mean_squared_error\n",
    "from sklearn.metrics import mean_absolute_error"
   ]
  },
  {
   "cell_type": "code",
   "execution_count": 7,
   "id": "61f7ba1b",
   "metadata": {},
   "outputs": [
    {
     "name": "stdout",
     "output_type": "stream",
     "text": [
      "0.9972299876917442\n",
      "536.6068154277302\n",
      "13.57588868857587\n"
     ]
    }
   ],
   "source": [
    "print(r2_score(ytest, ypred))\n",
    "print(mean_squared_error(ytest, ypred))\n",
    "print(mean_absolute_error(ytest, ypred))"
   ]
  },
  {
   "cell_type": "code",
   "execution_count": null,
   "id": "c865c9f4",
   "metadata": {},
   "outputs": [],
   "source": []
  }
 ],
 "metadata": {
  "kernelspec": {
   "display_name": "Python 3",
   "language": "python",
   "name": "python3"
  },
  "language_info": {
   "codemirror_mode": {
    "name": "ipython",
    "version": 3
   },
   "file_extension": ".py",
   "mimetype": "text/x-python",
   "name": "python",
   "nbconvert_exporter": "python",
   "pygments_lexer": "ipython3",
   "version": "3.9.2"
  }
 },
 "nbformat": 4,
 "nbformat_minor": 5
}
