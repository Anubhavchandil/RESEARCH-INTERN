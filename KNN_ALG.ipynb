{
 "cells": [
  {
   "cell_type": "code",
   "execution_count": 1,
   "id": "b38aadd7",
   "metadata": {},
   "outputs": [],
   "source": [
    "import pandas as pd\n",
    "import matplotlib.pyplot as plt\n",
    "import numpy as np\n",
    "from sklearn.metrics._plot.confusion_matrix import plot_confusion_matrix\n",
    "\n",
    "df= pd.read_excel('output_params_Phase.xlsx')\n",
    "\n",
    "# # FCC=0, FCC+BCC=1, BCC=2\n",
    "\n",
    "data= df.drop('Phase',axis='columns')\n",
    "target= df['Phase']\n",
    "\n",
    "from sklearn.model_selection import train_test_split\n",
    "\n",
    "xtrain,xtest,ytrain,ytest= train_test_split(data,target,test_size=0.2,random_state=42)"
   ]
  },
  {
   "cell_type": "code",
   "execution_count": 2,
   "id": "0af5c82b",
   "metadata": {},
   "outputs": [],
   "source": [
    "from sklearn.neighbors import KNeighborsClassifier"
   ]
  },
  {
   "cell_type": "code",
   "execution_count": 3,
   "id": "76674538",
   "metadata": {},
   "outputs": [
    {
     "name": "stdout",
     "output_type": "stream",
     "text": [
      "Fitting 3 folds for each of 56 candidates, totalling 168 fits\n",
      "[CV 1/3] END algorithm=auto, n_neighbors=1, weights=uniform;, score=0.958 total time=   0.1s\n",
      "[CV 2/3] END algorithm=auto, n_neighbors=1, weights=uniform;, score=0.961 total time=   0.0s\n",
      "[CV 3/3] END algorithm=auto, n_neighbors=1, weights=uniform;, score=0.962 total time=   0.0s\n",
      "[CV 1/3] END algorithm=auto, n_neighbors=1, weights=distance;, score=0.958 total time=   0.0s\n",
      "[CV 2/3] END algorithm=auto, n_neighbors=1, weights=distance;, score=0.961 total time=   0.0s\n",
      "[CV 3/3] END algorithm=auto, n_neighbors=1, weights=distance;, score=0.962 total time=   0.0s\n",
      "[CV 1/3] END algorithm=auto, n_neighbors=2, weights=uniform;, score=0.951 total time=   0.0s\n",
      "[CV 2/3] END algorithm=auto, n_neighbors=2, weights=uniform;, score=0.951 total time=   0.0s\n",
      "[CV 3/3] END algorithm=auto, n_neighbors=2, weights=uniform;, score=0.955 total time=   0.0s\n",
      "[CV 1/3] END algorithm=auto, n_neighbors=2, weights=distance;, score=0.958 total time=   0.0s\n",
      "[CV 2/3] END algorithm=auto, n_neighbors=2, weights=distance;, score=0.961 total time=   0.0s\n",
      "[CV 3/3] END algorithm=auto, n_neighbors=2, weights=distance;, score=0.962 total time=   0.0s\n",
      "[CV 1/3] END algorithm=auto, n_neighbors=3, weights=uniform;, score=0.968 total time=   0.0s\n",
      "[CV 2/3] END algorithm=auto, n_neighbors=3, weights=uniform;, score=0.969 total time=   0.0s\n",
      "[CV 3/3] END algorithm=auto, n_neighbors=3, weights=uniform;, score=0.968 total time=   0.0s\n",
      "[CV 1/3] END algorithm=auto, n_neighbors=3, weights=distance;, score=0.968 total time=   0.0s\n",
      "[CV 2/3] END algorithm=auto, n_neighbors=3, weights=distance;, score=0.970 total time=   0.0s\n",
      "[CV 3/3] END algorithm=auto, n_neighbors=3, weights=distance;, score=0.969 total time=   0.0s\n",
      "[CV 1/3] END algorithm=auto, n_neighbors=4, weights=uniform;, score=0.962 total time=   0.0s\n",
      "[CV 2/3] END algorithm=auto, n_neighbors=4, weights=uniform;, score=0.961 total time=   0.1s\n",
      "[CV 3/3] END algorithm=auto, n_neighbors=4, weights=uniform;, score=0.964 total time=   0.0s\n",
      "[CV 1/3] END algorithm=auto, n_neighbors=4, weights=distance;, score=0.970 total time=   0.0s\n",
      "[CV 2/3] END algorithm=auto, n_neighbors=4, weights=distance;, score=0.970 total time=   0.0s\n",
      "[CV 3/3] END algorithm=auto, n_neighbors=4, weights=distance;, score=0.968 total time=   0.0s\n",
      "[CV 1/3] END algorithm=auto, n_neighbors=5, weights=uniform;, score=0.964 total time=   0.0s\n",
      "[CV 2/3] END algorithm=auto, n_neighbors=5, weights=uniform;, score=0.968 total time=   0.0s\n",
      "[CV 3/3] END algorithm=auto, n_neighbors=5, weights=uniform;, score=0.966 total time=   0.1s\n",
      "[CV 1/3] END algorithm=auto, n_neighbors=5, weights=distance;, score=0.966 total time=   0.0s\n",
      "[CV 2/3] END algorithm=auto, n_neighbors=5, weights=distance;, score=0.971 total time=   0.0s\n",
      "[CV 3/3] END algorithm=auto, n_neighbors=5, weights=distance;, score=0.969 total time=   0.0s\n",
      "[CV 1/3] END algorithm=auto, n_neighbors=6, weights=uniform;, score=0.964 total time=   0.2s\n",
      "[CV 2/3] END algorithm=auto, n_neighbors=6, weights=uniform;, score=0.962 total time=   0.3s\n",
      "[CV 3/3] END algorithm=auto, n_neighbors=6, weights=uniform;, score=0.963 total time=   0.3s\n",
      "[CV 1/3] END algorithm=auto, n_neighbors=6, weights=distance;, score=0.971 total time=   0.0s\n",
      "[CV 2/3] END algorithm=auto, n_neighbors=6, weights=distance;, score=0.969 total time=   0.0s\n",
      "[CV 3/3] END algorithm=auto, n_neighbors=6, weights=distance;, score=0.967 total time=   0.0s\n",
      "[CV 1/3] END algorithm=auto, n_neighbors=50, weights=uniform;, score=0.947 total time=   0.3s\n",
      "[CV 2/3] END algorithm=auto, n_neighbors=50, weights=uniform;, score=0.949 total time=   0.3s\n",
      "[CV 3/3] END algorithm=auto, n_neighbors=50, weights=uniform;, score=0.944 total time=   0.3s\n",
      "[CV 1/3] END algorithm=auto, n_neighbors=50, weights=distance;, score=0.958 total time=   0.1s\n",
      "[CV 2/3] END algorithm=auto, n_neighbors=50, weights=distance;, score=0.957 total time=   0.1s\n",
      "[CV 3/3] END algorithm=auto, n_neighbors=50, weights=distance;, score=0.956 total time=   0.1s\n",
      "[CV 1/3] END algorithm=ball_tree, n_neighbors=1, weights=uniform;, score=0.958 total time=   0.3s\n",
      "[CV 2/3] END algorithm=ball_tree, n_neighbors=1, weights=uniform;, score=0.961 total time=   0.2s\n",
      "[CV 3/3] END algorithm=ball_tree, n_neighbors=1, weights=uniform;, score=0.962 total time=   0.3s\n",
      "[CV 1/3] END algorithm=ball_tree, n_neighbors=1, weights=distance;, score=0.958 total time=   0.0s\n",
      "[CV 2/3] END algorithm=ball_tree, n_neighbors=1, weights=distance;, score=0.961 total time=   0.0s\n",
      "[CV 3/3] END algorithm=ball_tree, n_neighbors=1, weights=distance;, score=0.962 total time=   0.0s\n",
      "[CV 1/3] END algorithm=ball_tree, n_neighbors=2, weights=uniform;, score=0.951 total time=   0.2s\n",
      "[CV 2/3] END algorithm=ball_tree, n_neighbors=2, weights=uniform;, score=0.951 total time=   0.2s\n",
      "[CV 3/3] END algorithm=ball_tree, n_neighbors=2, weights=uniform;, score=0.955 total time=   0.1s\n",
      "[CV 1/3] END algorithm=ball_tree, n_neighbors=2, weights=distance;, score=0.958 total time=   0.0s\n",
      "[CV 2/3] END algorithm=ball_tree, n_neighbors=2, weights=distance;, score=0.961 total time=   0.0s\n",
      "[CV 3/3] END algorithm=ball_tree, n_neighbors=2, weights=distance;, score=0.962 total time=   0.0s\n",
      "[CV 1/3] END algorithm=ball_tree, n_neighbors=3, weights=uniform;, score=0.968 total time=   0.3s\n",
      "[CV 2/3] END algorithm=ball_tree, n_neighbors=3, weights=uniform;, score=0.969 total time=   0.2s\n",
      "[CV 3/3] END algorithm=ball_tree, n_neighbors=3, weights=uniform;, score=0.968 total time=   0.3s\n",
      "[CV 1/3] END algorithm=ball_tree, n_neighbors=3, weights=distance;, score=0.968 total time=   0.0s\n",
      "[CV 2/3] END algorithm=ball_tree, n_neighbors=3, weights=distance;, score=0.970 total time=   0.0s\n",
      "[CV 3/3] END algorithm=ball_tree, n_neighbors=3, weights=distance;, score=0.969 total time=   0.0s\n",
      "[CV 1/3] END algorithm=ball_tree, n_neighbors=4, weights=uniform;, score=0.962 total time=   0.3s\n",
      "[CV 2/3] END algorithm=ball_tree, n_neighbors=4, weights=uniform;, score=0.961 total time=   0.3s\n",
      "[CV 3/3] END algorithm=ball_tree, n_neighbors=4, weights=uniform;, score=0.964 total time=   0.3s\n",
      "[CV 1/3] END algorithm=ball_tree, n_neighbors=4, weights=distance;, score=0.970 total time=   0.1s\n",
      "[CV 2/3] END algorithm=ball_tree, n_neighbors=4, weights=distance;, score=0.970 total time=   0.0s\n",
      "[CV 3/3] END algorithm=ball_tree, n_neighbors=4, weights=distance;, score=0.968 total time=   0.0s\n",
      "[CV 1/3] END algorithm=ball_tree, n_neighbors=5, weights=uniform;, score=0.964 total time=   0.2s\n",
      "[CV 2/3] END algorithm=ball_tree, n_neighbors=5, weights=uniform;, score=0.968 total time=   0.4s\n",
      "[CV 3/3] END algorithm=ball_tree, n_neighbors=5, weights=uniform;, score=0.966 total time=   0.3s\n",
      "[CV 1/3] END algorithm=ball_tree, n_neighbors=5, weights=distance;, score=0.966 total time=   0.1s\n",
      "[CV 2/3] END algorithm=ball_tree, n_neighbors=5, weights=distance;, score=0.971 total time=   0.0s\n",
      "[CV 3/3] END algorithm=ball_tree, n_neighbors=5, weights=distance;, score=0.969 total time=   0.0s\n",
      "[CV 1/3] END algorithm=ball_tree, n_neighbors=6, weights=uniform;, score=0.964 total time=   0.2s\n",
      "[CV 2/3] END algorithm=ball_tree, n_neighbors=6, weights=uniform;, score=0.962 total time=   0.3s\n",
      "[CV 3/3] END algorithm=ball_tree, n_neighbors=6, weights=uniform;, score=0.963 total time=   0.3s\n",
      "[CV 1/3] END algorithm=ball_tree, n_neighbors=6, weights=distance;, score=0.971 total time=   0.0s\n",
      "[CV 2/3] END algorithm=ball_tree, n_neighbors=6, weights=distance;, score=0.969 total time=   0.1s\n",
      "[CV 3/3] END algorithm=ball_tree, n_neighbors=6, weights=distance;, score=0.967 total time=   0.0s\n",
      "[CV 1/3] END algorithm=ball_tree, n_neighbors=50, weights=uniform;, score=0.947 total time=   0.4s\n",
      "[CV 2/3] END algorithm=ball_tree, n_neighbors=50, weights=uniform;, score=0.949 total time=   0.3s\n",
      "[CV 3/3] END algorithm=ball_tree, n_neighbors=50, weights=uniform;, score=0.944 total time=   0.3s\n",
      "[CV 1/3] END algorithm=ball_tree, n_neighbors=50, weights=distance;, score=0.958 total time=   0.2s\n",
      "[CV 2/3] END algorithm=ball_tree, n_neighbors=50, weights=distance;, score=0.957 total time=   0.2s\n",
      "[CV 3/3] END algorithm=ball_tree, n_neighbors=50, weights=distance;, score=0.956 total time=   0.2s\n",
      "[CV 1/3] END algorithm=kd_tree, n_neighbors=1, weights=uniform;, score=0.958 total time=   0.3s\n"
     ]
    },
    {
     "name": "stdout",
     "output_type": "stream",
     "text": [
      "[CV 2/3] END algorithm=kd_tree, n_neighbors=1, weights=uniform;, score=0.961 total time=   0.2s\n",
      "[CV 3/3] END algorithm=kd_tree, n_neighbors=1, weights=uniform;, score=0.962 total time=   0.2s\n",
      "[CV 1/3] END algorithm=kd_tree, n_neighbors=1, weights=distance;, score=0.958 total time=   0.0s\n",
      "[CV 2/3] END algorithm=kd_tree, n_neighbors=1, weights=distance;, score=0.961 total time=   0.0s\n",
      "[CV 3/3] END algorithm=kd_tree, n_neighbors=1, weights=distance;, score=0.962 total time=   0.0s\n",
      "[CV 1/3] END algorithm=kd_tree, n_neighbors=2, weights=uniform;, score=0.951 total time=   0.2s\n",
      "[CV 2/3] END algorithm=kd_tree, n_neighbors=2, weights=uniform;, score=0.951 total time=   0.2s\n",
      "[CV 3/3] END algorithm=kd_tree, n_neighbors=2, weights=uniform;, score=0.955 total time=   0.2s\n",
      "[CV 1/3] END algorithm=kd_tree, n_neighbors=2, weights=distance;, score=0.958 total time=   0.0s\n",
      "[CV 2/3] END algorithm=kd_tree, n_neighbors=2, weights=distance;, score=0.961 total time=   0.0s\n",
      "[CV 3/3] END algorithm=kd_tree, n_neighbors=2, weights=distance;, score=0.962 total time=   0.0s\n",
      "[CV 1/3] END algorithm=kd_tree, n_neighbors=3, weights=uniform;, score=0.968 total time=   0.2s\n",
      "[CV 2/3] END algorithm=kd_tree, n_neighbors=3, weights=uniform;, score=0.969 total time=   0.3s\n",
      "[CV 3/3] END algorithm=kd_tree, n_neighbors=3, weights=uniform;, score=0.968 total time=   0.3s\n",
      "[CV 1/3] END algorithm=kd_tree, n_neighbors=3, weights=distance;, score=0.968 total time=   0.0s\n",
      "[CV 2/3] END algorithm=kd_tree, n_neighbors=3, weights=distance;, score=0.970 total time=   0.0s\n",
      "[CV 3/3] END algorithm=kd_tree, n_neighbors=3, weights=distance;, score=0.969 total time=   0.0s\n",
      "[CV 1/3] END algorithm=kd_tree, n_neighbors=4, weights=uniform;, score=0.962 total time=   0.2s\n",
      "[CV 2/3] END algorithm=kd_tree, n_neighbors=4, weights=uniform;, score=0.961 total time=   0.2s\n",
      "[CV 3/3] END algorithm=kd_tree, n_neighbors=4, weights=uniform;, score=0.964 total time=   0.2s\n",
      "[CV 1/3] END algorithm=kd_tree, n_neighbors=4, weights=distance;, score=0.970 total time=   0.0s\n",
      "[CV 2/3] END algorithm=kd_tree, n_neighbors=4, weights=distance;, score=0.970 total time=   0.0s\n",
      "[CV 3/3] END algorithm=kd_tree, n_neighbors=4, weights=distance;, score=0.968 total time=   0.0s\n",
      "[CV 1/3] END algorithm=kd_tree, n_neighbors=5, weights=uniform;, score=0.964 total time=   0.2s\n",
      "[CV 2/3] END algorithm=kd_tree, n_neighbors=5, weights=uniform;, score=0.968 total time=   0.3s\n",
      "[CV 3/3] END algorithm=kd_tree, n_neighbors=5, weights=uniform;, score=0.966 total time=   0.2s\n",
      "[CV 1/3] END algorithm=kd_tree, n_neighbors=5, weights=distance;, score=0.966 total time=   0.0s\n",
      "[CV 2/3] END algorithm=kd_tree, n_neighbors=5, weights=distance;, score=0.971 total time=   0.0s\n",
      "[CV 3/3] END algorithm=kd_tree, n_neighbors=5, weights=distance;, score=0.969 total time=   0.0s\n",
      "[CV 1/3] END algorithm=kd_tree, n_neighbors=6, weights=uniform;, score=0.964 total time=   0.2s\n",
      "[CV 2/3] END algorithm=kd_tree, n_neighbors=6, weights=uniform;, score=0.962 total time=   0.1s\n",
      "[CV 3/3] END algorithm=kd_tree, n_neighbors=6, weights=uniform;, score=0.963 total time=   0.1s\n",
      "[CV 1/3] END algorithm=kd_tree, n_neighbors=6, weights=distance;, score=0.971 total time=   0.1s\n",
      "[CV 2/3] END algorithm=kd_tree, n_neighbors=6, weights=distance;, score=0.969 total time=   0.0s\n",
      "[CV 3/3] END algorithm=kd_tree, n_neighbors=6, weights=distance;, score=0.967 total time=   0.1s\n",
      "[CV 1/3] END algorithm=kd_tree, n_neighbors=50, weights=uniform;, score=0.947 total time=   0.4s\n",
      "[CV 2/3] END algorithm=kd_tree, n_neighbors=50, weights=uniform;, score=0.949 total time=   0.3s\n",
      "[CV 3/3] END algorithm=kd_tree, n_neighbors=50, weights=uniform;, score=0.944 total time=   0.4s\n",
      "[CV 1/3] END algorithm=kd_tree, n_neighbors=50, weights=distance;, score=0.958 total time=   0.1s\n",
      "[CV 2/3] END algorithm=kd_tree, n_neighbors=50, weights=distance;, score=0.957 total time=   0.1s\n",
      "[CV 3/3] END algorithm=kd_tree, n_neighbors=50, weights=distance;, score=0.956 total time=   0.1s\n",
      "[CV 1/3] END algorithm=brute, n_neighbors=1, weights=uniform;, score=0.958 total time=   0.6s\n",
      "[CV 2/3] END algorithm=brute, n_neighbors=1, weights=uniform;, score=0.961 total time=   0.6s\n",
      "[CV 3/3] END algorithm=brute, n_neighbors=1, weights=uniform;, score=0.962 total time=   0.6s\n",
      "[CV 1/3] END algorithm=brute, n_neighbors=1, weights=distance;, score=0.958 total time=   0.5s\n",
      "[CV 2/3] END algorithm=brute, n_neighbors=1, weights=distance;, score=0.961 total time=   0.5s\n",
      "[CV 3/3] END algorithm=brute, n_neighbors=1, weights=distance;, score=0.962 total time=   0.4s\n",
      "[CV 1/3] END algorithm=brute, n_neighbors=2, weights=uniform;, score=0.951 total time=   0.7s\n",
      "[CV 2/3] END algorithm=brute, n_neighbors=2, weights=uniform;, score=0.951 total time=   0.7s\n",
      "[CV 3/3] END algorithm=brute, n_neighbors=2, weights=uniform;, score=0.955 total time=   0.7s\n",
      "[CV 1/3] END algorithm=brute, n_neighbors=2, weights=distance;, score=0.958 total time=   0.5s\n",
      "[CV 2/3] END algorithm=brute, n_neighbors=2, weights=distance;, score=0.961 total time=   0.5s\n",
      "[CV 3/3] END algorithm=brute, n_neighbors=2, weights=distance;, score=0.962 total time=   0.5s\n",
      "[CV 1/3] END algorithm=brute, n_neighbors=3, weights=uniform;, score=0.968 total time=   0.8s\n",
      "[CV 2/3] END algorithm=brute, n_neighbors=3, weights=uniform;, score=0.969 total time=   0.7s\n",
      "[CV 3/3] END algorithm=brute, n_neighbors=3, weights=uniform;, score=0.968 total time=   0.7s\n",
      "[CV 1/3] END algorithm=brute, n_neighbors=3, weights=distance;, score=0.968 total time=   0.5s\n",
      "[CV 2/3] END algorithm=brute, n_neighbors=3, weights=distance;, score=0.970 total time=   0.5s\n",
      "[CV 3/3] END algorithm=brute, n_neighbors=3, weights=distance;, score=0.969 total time=   0.5s\n",
      "[CV 1/3] END algorithm=brute, n_neighbors=4, weights=uniform;, score=0.962 total time=   1.1s\n",
      "[CV 2/3] END algorithm=brute, n_neighbors=4, weights=uniform;, score=0.961 total time=   0.8s\n",
      "[CV 3/3] END algorithm=brute, n_neighbors=4, weights=uniform;, score=0.964 total time=   1.0s\n",
      "[CV 1/3] END algorithm=brute, n_neighbors=4, weights=distance;, score=0.970 total time=   0.8s\n",
      "[CV 2/3] END algorithm=brute, n_neighbors=4, weights=distance;, score=0.970 total time=   0.8s\n",
      "[CV 3/3] END algorithm=brute, n_neighbors=4, weights=distance;, score=0.968 total time=   0.8s\n",
      "[CV 1/3] END algorithm=brute, n_neighbors=5, weights=uniform;, score=0.964 total time=   0.9s\n",
      "[CV 2/3] END algorithm=brute, n_neighbors=5, weights=uniform;, score=0.968 total time=   0.9s\n",
      "[CV 3/3] END algorithm=brute, n_neighbors=5, weights=uniform;, score=0.966 total time=   0.9s\n",
      "[CV 1/3] END algorithm=brute, n_neighbors=5, weights=distance;, score=0.966 total time=   0.8s\n",
      "[CV 2/3] END algorithm=brute, n_neighbors=5, weights=distance;, score=0.971 total time=   0.8s\n",
      "[CV 3/3] END algorithm=brute, n_neighbors=5, weights=distance;, score=0.969 total time=   0.8s\n",
      "[CV 1/3] END algorithm=brute, n_neighbors=6, weights=uniform;, score=0.964 total time=   1.0s\n",
      "[CV 2/3] END algorithm=brute, n_neighbors=6, weights=uniform;, score=0.962 total time=   1.0s\n",
      "[CV 3/3] END algorithm=brute, n_neighbors=6, weights=uniform;, score=0.963 total time=   1.0s\n",
      "[CV 1/3] END algorithm=brute, n_neighbors=6, weights=distance;, score=0.971 total time=   0.8s\n",
      "[CV 2/3] END algorithm=brute, n_neighbors=6, weights=distance;, score=0.969 total time=   0.8s\n",
      "[CV 3/3] END algorithm=brute, n_neighbors=6, weights=distance;, score=0.967 total time=   0.8s\n",
      "[CV 1/3] END algorithm=brute, n_neighbors=50, weights=uniform;, score=0.947 total time=   0.9s\n",
      "[CV 2/3] END algorithm=brute, n_neighbors=50, weights=uniform;, score=0.949 total time=   1.0s\n",
      "[CV 3/3] END algorithm=brute, n_neighbors=50, weights=uniform;, score=0.944 total time=   1.0s\n",
      "[CV 1/3] END algorithm=brute, n_neighbors=50, weights=distance;, score=0.958 total time=   0.8s\n",
      "[CV 2/3] END algorithm=brute, n_neighbors=50, weights=distance;, score=0.957 total time=   0.8s\n",
      "[CV 3/3] END algorithm=brute, n_neighbors=50, weights=distance;, score=0.956 total time=   0.9s\n",
      "{'algorithm': 'auto', 'n_neighbors': 4, 'weights': 'distance'}\n",
      "0.9692848207202974\n"
     ]
    }
   ],
   "source": [
    "#KNN\n",
    "from sklearn.model_selection import GridSearchCV\n",
    "rf_params = {\n",
    "    'n_neighbors': [1,2,3,4,5,6,50],\n",
    "    \n",
    "    'weights': ['uniform', 'distance'],\n",
    "    \n",
    "    'algorithm': ['auto', 'ball_tree', 'kd_tree', 'brute']\n",
    "}\n",
    "\n",
    "clf = KNeighborsClassifier()\n",
    "grid = GridSearchCV(clf, rf_params, cv=3, scoring='accuracy',verbose=3)\n",
    "grid.fit(xtrain, ytrain)\n",
    "print(grid.best_params_)\n",
    "print(grid.best_score_)"
   ]
  },
  {
   "cell_type": "code",
   "execution_count": 4,
   "id": "97df842c",
   "metadata": {},
   "outputs": [
    {
     "data": {
      "text/plain": [
       "0.9753521126760564"
      ]
     },
     "execution_count": 4,
     "metadata": {},
     "output_type": "execute_result"
    }
   ],
   "source": [
    "grid.score(xtest, ytest)"
   ]
  },
  {
   "cell_type": "code",
   "execution_count": 5,
   "id": "869c7412",
   "metadata": {},
   "outputs": [],
   "source": [
    "ypred= grid.predict(xtest)"
   ]
  },
  {
   "cell_type": "code",
   "execution_count": 6,
   "id": "2d0de9f1",
   "metadata": {},
   "outputs": [
    {
     "data": {
      "text/plain": [
       "Text(0, 0.5, 'actual phase\\n              (BCC= 2, FCC+BCC= 1, FCC= 0)  ')"
      ]
     },
     "execution_count": 6,
     "metadata": {},
     "output_type": "execute_result"
    },
    {
     "data": {
      "image/png": "[encoded data removed]",
      "text/plain": [
       "<Figure size 432x288 with 2 Axes>"
      ]
     },
     "metadata": {
      "needs_background": "light"
     },
     "output_type": "display_data"
    }
   ],
   "source": [
    "from sklearn.metrics import confusion_matrix, classification_report\n",
    "\n",
    "plot_confusion_matrix(grid, xtest, ytest)\n",
    "plt.xlabel('predicted phase')\n",
    "plt.ylabel('''actual phase\n",
    "              (BCC= 2, FCC+BCC= 1, FCC= 0)  ''')\n"
   ]
  },
  {
   "cell_type": "code",
   "execution_count": 7,
   "id": "bc1b0ef0",
   "metadata": {},
   "outputs": [
    {
     "name": "stdout",
     "output_type": "stream",
     "text": [
      "              precision    recall  f1-score   support\n",
      "\n",
      "           0       0.99      0.97      0.98       717\n",
      "           1       0.95      0.96      0.96       710\n",
      "           2       0.99      0.99      0.99      1129\n",
      "\n",
      "    accuracy                           0.98      2556\n",
      "   macro avg       0.97      0.97      0.97      2556\n",
      "weighted avg       0.98      0.98      0.98      2556\n",
      "\n"
     ]
    }
   ],
   "source": [
    "print(classification_report(ytest, ypred))"
   ]
  },
  {
   "cell_type": "code",
   "execution_count": 8,
   "id": "261a9910",
   "metadata": {},
   "outputs": [
    {
     "name": "stdout",
     "output_type": "stream",
     "text": [
      "       importance\n",
      "Tm       0.432789\n",
      "Ni       0.318987\n",
      "Cr       0.143930\n",
      "Al       0.086804\n",
      "Co       0.067182\n",
      "Fe       0.062878\n",
      "ΔHₘᵢₓ    0.007669\n",
      "δ        0.003502\n",
      "Ω        0.001996\n",
      "VEC      0.000919\n",
      "Δsₘᵢₓ    0.000763\n",
      "Δχ       0.000000\n"
     ]
    }
   ],
   "source": [
    "from sklearn.inspection import permutation_importance\n",
    "\n",
    "\n",
    "pi= permutation_importance(grid, xtrain, ytrain, random_state=42)\n",
    "result=pi.importances_mean\n",
    "\n",
    "fi = pd.DataFrame(result, index= xtrain.columns, columns= ['importance']).sort_values('importance', ascending=False)\n",
    "\n",
    "print(fi)"
   ]
  },
  {
   "cell_type": "code",
   "execution_count": null,
   "id": "dbca6d48",
   "metadata": {},
   "outputs": [],
   "source": []
  },
  {
   "cell_type": "code",
   "execution_count": null,
   "id": "f9124338",
   "metadata": {},
   "outputs": [],
   "source": []
  }
 ],
 "metadata": {
  "kernelspec": {
   "display_name": "Python 3",
   "language": "python",
   "name": "python3"
  },
  "language_info": {
   "codemirror_mode": {
    "name": "ipython",
    "version": 3
   },
   "file_extension": ".py",
   "mimetype": "text/x-python",
   "name": "python",
   "nbconvert_exporter": "python",
   "pygments_lexer": "ipython3",
   "version": "3.9.2"
  }
 },
 "nbformat": 4,
 "nbformat_minor": 5
}
