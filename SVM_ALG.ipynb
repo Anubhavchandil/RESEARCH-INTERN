{
 "cells": [
  {
   "cell_type": "code",
   "execution_count": 1,
   "id": "aa6b7dd2",
   "metadata": {},
   "outputs": [],
   "source": [
    "import pandas as pd\n",
    "import matplotlib.pyplot as plt\n",
    "import numpy as np\n",
    "from sklearn.metrics._plot.confusion_matrix import plot_confusion_matrix\n",
    "\n",
    "df= pd.read_excel('output_params_Phase.xlsx')\n",
    "\n",
    "# # FCC=0, FCC+BCC=1, BCC=2\n",
    "\n",
    "data= df.drop('Phase',axis='columns')\n",
    "target= df['Phase']\n",
    "\n",
    "from sklearn.model_selection import train_test_split\n",
    "\n",
    "xtrain,xtest,ytrain,ytest= train_test_split(data,target,test_size=0.2,random_state=42)"
   ]
  },
  {
   "cell_type": "code",
   "execution_count": 2,
   "id": "c673ae7d",
   "metadata": {},
   "outputs": [],
   "source": [
    "from sklearn.svm import SVC"
   ]
  },
  {
   "cell_type": "code",
   "execution_count": 7,
   "id": "a7cf5982",
   "metadata": {},
   "outputs": [
    {
     "name": "stdout",
     "output_type": "stream",
     "text": [
      "Fitting 3 folds for each of 9 candidates, totalling 27 fits\n",
      "[CV 1/3] END ...C=1, gamma=scale, kernel=linear;, score=0.975 total time=   1.4s\n",
      "[CV 2/3] END ...C=1, gamma=scale, kernel=linear;, score=0.974 total time=   1.3s\n",
      "[CV 3/3] END ...C=1, gamma=scale, kernel=linear;, score=0.977 total time=   1.1s\n",
      "[CV 1/3] END .....C=1, gamma=scale, kernel=poly;, score=0.744 total time=   2.9s\n",
      "[CV 2/3] END .....C=1, gamma=scale, kernel=poly;, score=0.753 total time=   3.0s\n",
      "[CV 3/3] END .....C=1, gamma=scale, kernel=poly;, score=0.746 total time=   2.9s\n",
      "[CV 1/3] END ......C=1, gamma=scale, kernel=rbf;, score=0.720 total time=   7.1s\n",
      "[CV 2/3] END ......C=1, gamma=scale, kernel=rbf;, score=0.727 total time=   7.4s\n",
      "[CV 3/3] END ......C=1, gamma=scale, kernel=rbf;, score=0.722 total time=   7.3s\n",
      "[CV 1/3] END .C=100, gamma=scale, kernel=linear;, score=0.973 total time=   1.6s\n",
      "[CV 2/3] END .C=100, gamma=scale, kernel=linear;, score=0.975 total time=   1.7s\n",
      "[CV 3/3] END .C=100, gamma=scale, kernel=linear;, score=0.972 total time=   1.2s\n",
      "[CV 1/3] END ...C=100, gamma=scale, kernel=poly;, score=0.956 total time=   1.2s\n",
      "[CV 2/3] END ...C=100, gamma=scale, kernel=poly;, score=0.963 total time=   1.2s\n",
      "[CV 3/3] END ...C=100, gamma=scale, kernel=poly;, score=0.957 total time=   1.2s\n",
      "[CV 1/3] END ....C=100, gamma=scale, kernel=rbf;, score=0.948 total time=   3.1s\n",
      "[CV 2/3] END ....C=100, gamma=scale, kernel=rbf;, score=0.953 total time=   3.1s\n",
      "[CV 3/3] END ....C=100, gamma=scale, kernel=rbf;, score=0.949 total time=   3.0s\n",
      "[CV 1/3] END C=1000, gamma=scale, kernel=linear;, score=0.975 total time=   1.3s\n",
      "[CV 2/3] END C=1000, gamma=scale, kernel=linear;, score=0.969 total time=   1.9s\n",
      "[CV 3/3] END C=1000, gamma=scale, kernel=linear;, score=0.972 total time=   1.4s\n",
      "[CV 1/3] END ..C=1000, gamma=scale, kernel=poly;, score=0.968 total time=   0.8s\n",
      "[CV 2/3] END ..C=1000, gamma=scale, kernel=poly;, score=0.968 total time=   0.8s\n",
      "[CV 3/3] END ..C=1000, gamma=scale, kernel=poly;, score=0.970 total time=   0.7s\n",
      "[CV 1/3] END ...C=1000, gamma=scale, kernel=rbf;, score=0.971 total time=   1.8s\n",
      "[CV 2/3] END ...C=1000, gamma=scale, kernel=rbf;, score=0.972 total time=   1.6s\n",
      "[CV 3/3] END ...C=1000, gamma=scale, kernel=rbf;, score=0.969 total time=   1.7s\n",
      "{'C': 1, 'gamma': 'scale', 'kernel': 'linear'}\n",
      "0.9753498447227079\n"
     ]
    }
   ],
   "source": [
    "#SVM\n",
    "from sklearn.model_selection import GridSearchCV\n",
    "rf_params = {\n",
    "    'C': [1, 100,1000],\n",
    "    \"kernel\":['linear','poly','rbf'],\n",
    "    'gamma' : ['scale']\n",
    "}\n",
    "clf = SVC()\n",
    "grid = GridSearchCV(clf, rf_params, cv=3, scoring='accuracy', verbose=3)\n",
    "grid.fit(xtrain, ytrain)\n",
    "print(grid.best_params_)\n",
    "print(grid.best_score_)"
   ]
  },
  {
   "cell_type": "code",
   "execution_count": 8,
   "id": "2ed1d372",
   "metadata": {},
   "outputs": [
    {
     "data": {
      "text/plain": [
       "0.9761345852895149"
      ]
     },
     "execution_count": 8,
     "metadata": {},
     "output_type": "execute_result"
    }
   ],
   "source": [
    "grid.score(xtest, ytest)"
   ]
  },
  {
   "cell_type": "code",
   "execution_count": 9,
   "id": "6a50b081",
   "metadata": {},
   "outputs": [],
   "source": [
    "ypred= grid.predict(xtest)"
   ]
  },
  {
   "cell_type": "code",
   "execution_count": 10,
   "id": "2ef55995",
   "metadata": {},
   "outputs": [
    {
     "data": {
      "text/plain": [
       "Text(0, 0.5, 'actual phase\\n              (BCC= 2, FCC+BCC= 1, FCC= 0)  ')"
      ]
     },
     "execution_count": 10,
     "metadata": {},
     "output_type": "execute_result"
    },
    {
     "data": {
      "image/png": "[encoded data removed]",
      "text/plain": [
       "<Figure size 432x288 with 2 Axes>"
      ]
     },
     "metadata": {
      "needs_background": "light"
     },
     "output_type": "display_data"
    }
   ],
   "source": [
    "from sklearn.metrics import confusion_matrix, classification_report\n",
    "\n",
    "plot_confusion_matrix(grid, xtest, ytest)\n",
    "plt.xlabel('predicted phase')\n",
    "plt.ylabel('''actual phase\n",
    "              (BCC= 2, FCC+BCC= 1, FCC= 0)  ''')\n"
   ]
  },
  {
   "cell_type": "code",
   "execution_count": 11,
   "id": "711592ab",
   "metadata": {},
   "outputs": [
    {
     "name": "stdout",
     "output_type": "stream",
     "text": [
      "              precision    recall  f1-score   support\n",
      "\n",
      "           0       0.96      0.96      0.96       717\n",
      "           1       0.96      0.96      0.96       710\n",
      "           2       1.00      1.00      1.00      1129\n",
      "\n",
      "    accuracy                           0.98      2556\n",
      "   macro avg       0.97      0.97      0.97      2556\n",
      "weighted avg       0.98      0.98      0.98      2556\n",
      "\n"
     ]
    }
   ],
   "source": [
    "print(classification_report(ytest, ypred))"
   ]
  },
  {
   "cell_type": "code",
   "execution_count": 12,
   "id": "3d76bddc",
   "metadata": {},
   "outputs": [
    {
     "name": "stdout",
     "output_type": "stream",
     "text": [
      "       importance\n",
      "Tm       0.478783\n",
      "Ni       0.384095\n",
      "Al       0.224533\n",
      "Cr       0.224337\n",
      "Co       0.128142\n",
      "ΔHₘᵢₓ    0.101536\n",
      "Fe       0.070782\n",
      "Ω        0.046757\n",
      "δ        0.022850\n",
      "Δsₘᵢₓ    0.009156\n",
      "Δχ       0.000020\n",
      "VEC     -0.000685\n"
     ]
    }
   ],
   "source": [
    "from sklearn.inspection import permutation_importance\n",
    "\n",
    "\n",
    "pi= permutation_importance(grid, xtrain, ytrain, random_state=42)\n",
    "result=pi.importances_mean\n",
    "\n",
    "fi = pd.DataFrame(result, index= xtrain.columns, columns= ['importance']).sort_values('importance', ascending=False)\n",
    "\n",
    "print(fi)"
   ]
  },
  {
   "cell_type": "code",
   "execution_count": null,
   "id": "47699b4d",
   "metadata": {},
   "outputs": [],
   "source": []
  },
  {
   "cell_type": "code",
   "execution_count": null,
   "id": "739be0b7",
   "metadata": {},
   "outputs": [],
   "source": []
  }
 ],
 "metadata": {
  "kernelspec": {
   "display_name": "Python 3",
   "language": "python",
   "name": "python3"
  },
  "language_info": {
   "codemirror_mode": {
    "name": "ipython",
    "version": 3
   },
   "file_extension": ".py",
   "mimetype": "text/x-python",
   "name": "python",
   "nbconvert_exporter": "python",
   "pygments_lexer": "ipython3",
   "version": "3.9.2"
  }
 },
 "nbformat": 4,
 "nbformat_minor": 5
}
