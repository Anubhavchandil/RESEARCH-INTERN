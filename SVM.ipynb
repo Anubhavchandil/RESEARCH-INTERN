{
 "cells": [
  {
   "cell_type": "code",
   "execution_count": 1,
   "id": "1ca69b0e",
   "metadata": {},
   "outputs": [],
   "source": [
    "import pandas as pd\n",
    "df= pd.read_excel('output_params_density.xlsx')\n",
    "\n",
    "data= df.drop('density',axis='columns')\n",
    "target= df['density']\n",
    "from sklearn.model_selection import train_test_split\n",
    "xtrain, xtest,  ytrain, ytest = train_test_split(data, target, test_size=0.2,random_state=42)"
   ]
  },
  {
   "cell_type": "code",
   "execution_count": 2,
   "id": "2a2e3ce3",
   "metadata": {},
   "outputs": [],
   "source": [
    "from sklearn.svm import SVR"
   ]
  },
  {
   "cell_type": "code",
   "execution_count": 3,
   "id": "9cef7f76",
   "metadata": {},
   "outputs": [],
   "source": [
    "#     'C': [1,10, 100],\n",
    "#     \"kernel\":['poly','linear'],\n",
    "#     \"epsilon\":[0.01,0.1,1]"
   ]
  },
  {
   "cell_type": "code",
   "execution_count": 6,
   "id": "88a9161e",
   "metadata": {},
   "outputs": [
    {
     "name": "stdout",
     "output_type": "stream",
     "text": [
      "Fitting 3 folds for each of 1 candidates, totalling 3 fits\n",
      "[CV 1/3] END C=10, epsilon=0.1, kernel=linear;, score=-668.368 total time=  23.8s\n",
      "[CV 2/3] END C=10, epsilon=0.1, kernel=linear;, score=-673.496 total time=  22.8s\n",
      "[CV 3/3] END C=10, epsilon=0.1, kernel=linear;, score=-649.026 total time=  25.4s\n",
      "{'C': 10, 'epsilon': 0.1, 'kernel': 'linear'}\n",
      "MSE:663.6299434950292\n"
     ]
    }
   ],
   "source": [
    "#SVM\n",
    "from sklearn.model_selection import GridSearchCV\n",
    "rf_params = {\n",
    "    'C': [10],\n",
    "    \"kernel\":['linear'],\n",
    "    \"epsilon\":[0.1]\n",
    "}\n",
    "model = SVR()\n",
    "grid = GridSearchCV(model, rf_params, cv=3, scoring='neg_mean_squared_error', verbose=3)\n",
    "grid.fit(xtrain, ytrain)\n",
    "print(grid.best_params_)\n",
    "print(\"MSE:\"+ str(-grid.best_score_))"
   ]
  },
  {
   "cell_type": "code",
   "execution_count": 7,
   "id": "2572fdfa",
   "metadata": {},
   "outputs": [
    {
     "data": {
      "text/plain": [
       "756.110417433232"
      ]
     },
     "execution_count": 7,
     "metadata": {},
     "output_type": "execute_result"
    }
   ],
   "source": [
    "-grid.score(xtest, ytest)"
   ]
  },
  {
   "cell_type": "code",
   "execution_count": 8,
   "id": "2a091a60",
   "metadata": {},
   "outputs": [],
   "source": [
    "ypred=grid.predict(xtest)"
   ]
  },
  {
   "cell_type": "code",
   "execution_count": 9,
   "id": "9278a096",
   "metadata": {},
   "outputs": [],
   "source": [
    "from sklearn.metrics import r2_score\n",
    "from sklearn.metrics import mean_squared_error\n",
    "from sklearn.metrics import mean_absolute_error"
   ]
  },
  {
   "cell_type": "code",
   "execution_count": 10,
   "id": "ace85556",
   "metadata": {},
   "outputs": [
    {
     "name": "stdout",
     "output_type": "stream",
     "text": [
      "0.9960968904932358\n",
      "756.110417433232\n",
      "19.928935539892542\n"
     ]
    }
   ],
   "source": [
    "print(r2_score(ytest, ypred))\n",
    "print(mean_squared_error(ytest, ypred))\n",
    "print(mean_absolute_error(ytest, ypred))"
   ]
  },
  {
   "cell_type": "code",
   "execution_count": null,
   "id": "ef050a95",
   "metadata": {},
   "outputs": [],
   "source": []
  }
 ],
 "metadata": {
  "kernelspec": {
   "display_name": "Python 3",
   "language": "python",
   "name": "python3"
  },
  "language_info": {
   "codemirror_mode": {
    "name": "ipython",
    "version": 3
   },
   "file_extension": ".py",
   "mimetype": "text/x-python",
   "name": "python",
   "nbconvert_exporter": "python",
   "pygments_lexer": "ipython3",
   "version": "3.9.2"
  }
 },
 "nbformat": 4,
 "nbformat_minor": 5
}
