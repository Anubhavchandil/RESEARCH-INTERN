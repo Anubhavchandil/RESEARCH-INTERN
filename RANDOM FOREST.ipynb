{
 "cells": [
  {
   "cell_type": "code",
   "execution_count": 1,
   "id": "c5dbed78",
   "metadata": {},
   "outputs": [],
   "source": [
    "import pandas as pd\n",
    "df= pd.read_excel('output_params_density.xlsx')\n",
    "\n",
    "data= df.drop('density',axis='columns')\n",
    "target= df['density']\n",
    "from sklearn.model_selection import train_test_split\n",
    "xtrain, xtest,  ytrain, ytest = train_test_split(data, target, test_size=0.2,random_state=42)\n"
   ]
  },
  {
   "cell_type": "code",
   "execution_count": 2,
   "id": "ef9d8674",
   "metadata": {},
   "outputs": [],
   "source": [
    "from sklearn.ensemble import RandomForestRegressor\n"
   ]
  },
  {
   "cell_type": "code",
   "execution_count": 3,
   "id": "cdb82b61",
   "metadata": {},
   "outputs": [],
   "source": [
    "#     'n_estimators': [100,150,200],\n",
    "#     'max_features': ['sqrt', 'auto'],\n",
    "#     'max_depth': [None,15,30,50],\n",
    "#     'min_samples_leaf': [1,2,4],\n",
    "#     'min_samples_split' :[2,4,6]"
   ]
  },
  {
   "cell_type": "code",
   "execution_count": 13,
   "id": "862150cf",
   "metadata": {},
   "outputs": [
    {
     "name": "stdout",
     "output_type": "stream",
     "text": [
      "Fitting 3 folds for each of 1 candidates, totalling 3 fits\n",
      "[CV 1/3] END max_depth=None, max_features=auto, min_samples_leaf=2, min_samples_split=2, n_estimators=200;, score=-292.262 total time=  12.7s\n",
      "[CV 2/3] END max_depth=None, max_features=auto, min_samples_leaf=2, min_samples_split=2, n_estimators=200;, score=-302.699 total time=  12.9s\n",
      "[CV 3/3] END max_depth=None, max_features=auto, min_samples_leaf=2, min_samples_split=2, n_estimators=200;, score=-253.839 total time=  12.7s\n",
      "{'max_depth': None, 'max_features': 'auto', 'min_samples_leaf': 2, 'min_samples_split': 2, 'n_estimators': 200}\n",
      "MSE:282.93313930586345\n"
     ]
    }
   ],
   "source": [
    "#Random Forest\n",
    "from sklearn.model_selection import GridSearchCV\n",
    "\n",
    "rf_params = {\n",
    "    'n_estimators': [200],\n",
    "    'max_features': ['auto'],\n",
    "    'max_depth': [None],\n",
    "    'min_samples_leaf': [2],\n",
    "    'min_samples_split' :[2]\n",
    "    \n",
    "}\n",
    "model = RandomForestRegressor(random_state=42)\n",
    "grid = GridSearchCV(model, rf_params, cv=3, scoring='neg_mean_squared_error', verbose=3)\n",
    "grid.fit(xtrain, ytrain)\n",
    "print(grid.best_params_)\n",
    "print(\"MSE:\"+ str(-grid.best_score_))"
   ]
  },
  {
   "cell_type": "code",
   "execution_count": 14,
   "id": "c421116a",
   "metadata": {},
   "outputs": [
    {
     "data": {
      "text/plain": [
       "352.75484457369953"
      ]
     },
     "execution_count": 14,
     "metadata": {},
     "output_type": "execute_result"
    }
   ],
   "source": [
    "-grid.score(xtest, ytest)"
   ]
  },
  {
   "cell_type": "code",
   "execution_count": 15,
   "id": "3e6e320a",
   "metadata": {},
   "outputs": [],
   "source": [
    "ypred=grid.predict(xtest)"
   ]
  },
  {
   "cell_type": "code",
   "execution_count": 16,
   "id": "3ba67327",
   "metadata": {},
   "outputs": [],
   "source": [
    "from sklearn.metrics import r2_score\n",
    "from sklearn.metrics import mean_squared_error\n",
    "from sklearn.metrics import mean_absolute_error"
   ]
  },
  {
   "cell_type": "code",
   "execution_count": 17,
   "id": "cffc3f8b",
   "metadata": {},
   "outputs": [
    {
     "name": "stdout",
     "output_type": "stream",
     "text": [
      "0.9981790479860247\n",
      "352.75484457369953\n",
      "7.449254032954048\n"
     ]
    }
   ],
   "source": [
    "print(r2_score(ytest, ypred))\n",
    "print(mean_squared_error(ytest, ypred))\n",
    "print(mean_absolute_error(ytest, ypred))"
   ]
  },
  {
   "cell_type": "code",
   "execution_count": null,
   "id": "5a36ae84",
   "metadata": {},
   "outputs": [],
   "source": []
  },
  {
   "cell_type": "code",
   "execution_count": null,
   "id": "9f0a3227",
   "metadata": {},
   "outputs": [],
   "source": []
  }
 ],
 "metadata": {
  "kernelspec": {
   "display_name": "Python 3",
   "language": "python",
   "name": "python3"
  },
  "language_info": {
   "codemirror_mode": {
    "name": "ipython",
    "version": 3
   },
   "file_extension": ".py",
   "mimetype": "text/x-python",
   "name": "python",
   "nbconvert_exporter": "python",
   "pygments_lexer": "ipython3",
   "version": "3.9.2"
  }
 },
 "nbformat": 4,
 "nbformat_minor": 5
}
